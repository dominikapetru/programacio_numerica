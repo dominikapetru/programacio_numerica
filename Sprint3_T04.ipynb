{
 "cells": [
  {
   "cell_type": "markdown",
   "id": "307c640a-e3a9-48b0-9740-97b44df6b4b0",
   "metadata": {
    "tags": []
   },
   "source": [
    "#Sprint 3, T04"
   ]
  },
  {
   "cell_type": "markdown",
   "id": "2f17ee0d-2df2-4c67-a3c4-434e5218bace",
   "metadata": {},
   "source": [
    "##Nivell 1"
   ]
  },
  {
   "cell_type": "markdown",
   "id": "42b1c3ad-f8c2-483d-82cf-b6cae584067d",
   "metadata": {},
   "source": [
    "###Execise 1 - Array"
   ]
  },
  {
   "cell_type": "code",
   "execution_count": 12,
   "id": "b5870976-090f-41a5-a19d-6078853056f7",
   "metadata": {},
   "outputs": [
    {
     "name": "stdout",
     "output_type": "stream",
     "text": [
      "Array has 1 dimension, number of elements is 8 and the data type is int64\n"
     ]
    }
   ],
   "source": [
    "import numpy as np\n",
    "a = np.array([20,30,8,6,9,21,64,18], dtype = int)\n",
    "x = a.ndim\n",
    "y = a.size\n",
    "z = a.dtype\n",
    "if x != 1:\n",
    "    print(\"Error, array has more than 1 dimension\")\n",
    "else:\n",
    "    print(\"Array has 1 dimension, number of elements is\",y, \"and the data type is\",z)"
   ]
  },
  {
   "cell_type": "markdown",
   "id": "b71ce121-273c-4dce-8706-12b0ad47da9c",
   "metadata": {},
   "source": [
    "###Execise 2 - Function to generate random NxN"
   ]
  },
  {
   "cell_type": "code",
   "execution_count": 25,
   "id": "447aaf8a-b029-4b74-a06d-8dd2199bc35b",
   "metadata": {},
   "outputs": [
    {
     "name": "stdout",
     "output_type": "stream",
     "text": [
      "Random set of 2D array NxN:\n",
      "[[57  1 50]\n",
      " [59 95 43]\n",
      " [ 9 68 93]]\n"
     ]
    }
   ],
   "source": [
    "import random\n",
    "n = 3\n",
    "b = np.random.randint(100, size = (n,n))\n",
    "print(\"Random set of 2D array NxN:\")\n",
    "print(b)"
   ]
  },
  {
   "cell_type": "markdown",
   "id": "c9ccb102-1b5c-464f-9a40-12d27d06e401",
   "metadata": {},
   "source": [
    "###Execise 3 - Function to calculate total value in columns and rows"
   ]
  },
  {
   "cell_type": "code",
   "execution_count": 27,
   "id": "0ca4649a-504b-4c21-b4a1-f13b22080759",
   "metadata": {},
   "outputs": [
    {
     "name": "stdout",
     "output_type": "stream",
     "text": [
      "Total value of each column is [ 45  45  88  67  26  41 119  29]\n",
      "Total value of each row is [176 284]\n"
     ]
    }
   ],
   "source": [
    "a = np.array([(20,30,8,6,9,21,64,18), (25,15,80,61,17,20,55,11)], dtype = int)\n",
    "x = a.sum(axis=0)\n",
    "y = a.sum(axis=1)\n",
    "print(\"Total value of each column is\", x)\n",
    "print(\"Total value of each row is\", y)"
   ]
  },
  {
   "cell_type": "markdown",
   "id": "a89736d2-0178-4e64-b8c2-48e4176de78b",
   "metadata": {},
   "source": [
    "###Execise 4 - Correlation"
   ]
  },
  {
   "cell_type": "code",
   "execution_count": 31,
   "id": "77e9a9a1-c018-4e07-a1b6-8a3753609fc2",
   "metadata": {},
   "outputs": [
    {
     "name": "stdout",
     "output_type": "stream",
     "text": [
      "Pearson correlation coefficient is 0.7586402890911867\n",
      "That means the correlation in strong positive\n"
     ]
    }
   ],
   "source": [
    "a = np.arange(10, 20)\n",
    "b = np.array([2, 1, 4, 5, 8, 12, 18, 25, 96, 48])\n",
    "r = np.corrcoef(a, b)\n",
    "x = r[0][1]\n",
    "print(\"Pearson correlation coefficient is\", x)\n",
    "print(\"That means the correlation in strong positive\")"
   ]
  }
 ],
 "metadata": {
  "kernelspec": {
   "display_name": "Python 3",
   "language": "python",
   "name": "python3"
  },
  "language_info": {
   "codemirror_mode": {
    "name": "ipython",
    "version": 3
   },
   "file_extension": ".py",
   "mimetype": "text/x-python",
   "name": "python",
   "nbconvert_exporter": "python",
   "pygments_lexer": "ipython3",
   "version": "3.8.8"
  }
 },
 "nbformat": 4,
 "nbformat_minor": 5
}
