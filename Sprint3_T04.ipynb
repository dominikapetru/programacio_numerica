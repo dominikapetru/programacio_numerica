{
 "cells": [
  {
   "cell_type": "markdown",
   "id": "307c640a-e3a9-48b0-9740-97b44df6b4b0",
   "metadata": {
    "tags": []
   },
   "source": [
    "#Sprint 3, T04"
   ]
  },
  {
   "cell_type": "markdown",
   "id": "2f17ee0d-2df2-4c67-a3c4-434e5218bace",
   "metadata": {},
   "source": [
    "##Nivell 1"
   ]
  },
  {
   "cell_type": "markdown",
   "id": "42b1c3ad-f8c2-483d-82cf-b6cae584067d",
   "metadata": {},
   "source": [
    "###Execise 1 - Array"
   ]
  },
  {
   "cell_type": "code",
   "execution_count": 8,
   "id": "b5870976-090f-41a5-a19d-6078853056f7",
   "metadata": {},
   "outputs": [
    {
     "name": "stdout",
     "output_type": "stream",
     "text": [
      "Array has 1 dimension, number of elements is 8 and the data type is int64\n"
     ]
    }
   ],
   "source": [
    "import numpy as np\n",
    "a = np.array([10,8,10,8,8,4,64,18], dtype = int)\n",
    "x = a.ndim\n",
    "y = a.size\n",
    "z = a.dtype\n",
    "if x != 1:\n",
    "    print(\"Error, array has more than 1 dimension\")\n",
    "else:\n",
    "    print(\"Array has 1 dimension, number of elements is\",y, \"and the data type is\",z)"
   ]
  },
  {
   "cell_type": "markdown",
   "id": "eca35c67-0dba-4cc4-9909-6ba40f77377a",
   "metadata": {},
   "source": [
    "####Statistical analysis"
   ]
  },
  {
   "cell_type": "code",
   "execution_count": 10,
   "id": "1107489b-71e2-47c9-8e77-151943dc0585",
   "metadata": {},
   "outputs": [
    {
     "name": "stdout",
     "output_type": "stream",
     "text": [
      "The mean is 16.25\n",
      "The max value is 64\n",
      "The min value is 4\n",
      "The median value is 9.0\n",
      "The standard deviation is 18.423829677892705\n"
     ]
    }
   ],
   "source": [
    "#mean, max, median, min, std\n",
    "b = a.mean()\n",
    "c = a.max(axis=0)\n",
    "d = a.min()\n",
    "e = np.median(a)\n",
    "f = np.std(a)\n",
    "print(\"The mean is\", b)\n",
    "print(\"The max value is\", c)\n",
    "print(\"The min value is\", d)\n",
    "print(\"The median value is\", e)\n",
    "print(\"The standard deviation is\", f)"
   ]
  },
  {
   "cell_type": "markdown",
   "id": "b71ce121-273c-4dce-8706-12b0ad47da9c",
   "metadata": {},
   "source": [
    "###Execise 2 - Function to generate random NxN"
   ]
  },
  {
   "cell_type": "code",
   "execution_count": 14,
   "id": "447aaf8a-b029-4b74-a06d-8dd2199bc35b",
   "metadata": {},
   "outputs": [
    {
     "name": "stdout",
     "output_type": "stream",
     "text": [
      "Random set of 2D array NxN:\n",
      "[[ 19  38  71]\n",
      " [100  43  30]\n",
      " [ 79  81  75]]\n"
     ]
    }
   ],
   "source": [
    "#to generate num between 0 and 100 - 100 iclusive so the range is up to 101\n",
    "import random\n",
    "n = 3\n",
    "b = np.random.randint(101, size = (n,n))\n",
    "print(\"Random set of 2D array NxN:\")\n",
    "print(b)"
   ]
  },
  {
   "cell_type": "markdown",
   "id": "c9ccb102-1b5c-464f-9a40-12d27d06e401",
   "metadata": {},
   "source": [
    "###Execise 3 - Function to calculate total value in columns and rows"
   ]
  },
  {
   "cell_type": "code",
   "execution_count": 15,
   "id": "0ca4649a-504b-4c21-b4a1-f13b22080759",
   "metadata": {},
   "outputs": [
    {
     "name": "stdout",
     "output_type": "stream",
     "text": [
      "Total value of each column is [ 45  45  88  67  26  41 119  29]\n",
      "Total value of each row is [176 284]\n"
     ]
    }
   ],
   "source": [
    "a = np.array([(20,30,8,6,9,21,64,18), (25,15,80,61,17,20,55,11)], dtype = int)\n",
    "x = a.sum(axis=0)\n",
    "y = a.sum(axis=1)\n",
    "print(\"Total value of each column is\", x)\n",
    "print(\"Total value of each row is\", y)"
   ]
  },
  {
   "cell_type": "markdown",
   "id": "a89736d2-0178-4e64-b8c2-48e4176de78b",
   "metadata": {},
   "source": [
    "###Execise 4 - Correlation"
   ]
  },
  {
   "cell_type": "markdown",
   "id": "a1ea73c1-dfee-4684-a871-53dd769e2ff3",
   "metadata": {},
   "source": [
    "####The Pearson correlation coefficient measures the linear association between variables. Its value can be interpreted like so:\n",
    "\n",
    "* +1 - Complete positive correlation\n",
    "* +0.8 - Strong positive correlation\n",
    "* +0.6 - Moderate positive correlation\n",
    "* 0 - no correlation whatsoever\n",
    "* -0.6 - Moderate negative correlation\n",
    "* -0.8 - Strong negative correlation\n",
    "* -1 - Complete negative correlation\n",
    "\n",
    "####How to calculate correlation manually: https://www.statisticshowto.com/probability-and-statistics/correlation-coefficient-formula/"
   ]
  },
  {
   "cell_type": "code",
   "execution_count": 44,
   "id": "77e9a9a1-c018-4e07-a1b6-8a3753609fc2",
   "metadata": {},
   "outputs": [
    {
     "data": {
      "text/plain": [
       "0.7586402890911869"
      ]
     },
     "execution_count": 44,
     "metadata": {},
     "output_type": "execute_result"
    }
   ],
   "source": [
    "a = np.arange(10, 20)\n",
    "b = np.array([2, 1, 4, 5, 8, 12, 18, 25, 96, 48])\n",
    "\n",
    "#sum a\n",
    "sumA = a.sum()\n",
    "#sum b\n",
    "sumB = b.sum()\n",
    "#sum a*b\n",
    "sumAB = np.multiply(a,b)\n",
    "sumAB = sumAB.sum()\n",
    "#sum a square root\n",
    "sumA2 = a**2\n",
    "sumA2 = sumA2.sum()\n",
    "#sum b square root\n",
    "sumB2 = b**2\n",
    "sumB2 = sumB2.sum()\n",
    "\n",
    "x = (10*sumAB) - (sumA * sumB)\n",
    "y = np.sqrt(((10*sumA2)-(sumA**2))*((10*sumB2)-(sumB**2)))\n",
    "result = x / y\n",
    "result"
   ]
  },
  {
   "cell_type": "markdown",
   "id": "0266af53-104c-4212-842e-c7cc7db9ad03",
   "metadata": {},
   "source": [
    "#Correlation coefficient is 0.75"
   ]
  },
  {
   "cell_type": "code",
   "execution_count": 45,
   "id": "4574bd06-9bcd-4105-b074-498123ffea19",
   "metadata": {},
   "outputs": [
    {
     "name": "stdout",
     "output_type": "stream",
     "text": [
      "Pearson correlation coefficient is 0.7586402890911867\n",
      "That means the correlation in moderate positive\n"
     ]
    }
   ],
   "source": [
    "#to check if it's correct\n",
    "r = np.corrcoef(a, b)\n",
    "x = r[0][1]\n",
    "print(\"Pearson correlation coefficient is\", x)\n",
    "print(\"That means the correlation in moderate positive\")"
   ]
  }
 ],
 "metadata": {
  "kernelspec": {
   "display_name": "Python 3",
   "language": "python",
   "name": "python3"
  },
  "language_info": {
   "codemirror_mode": {
    "name": "ipython",
    "version": 3
   },
   "file_extension": ".py",
   "mimetype": "text/x-python",
   "name": "python",
   "nbconvert_exporter": "python",
   "pygments_lexer": "ipython3",
   "version": "3.8.8"
  }
 },
 "nbformat": 4,
 "nbformat_minor": 5
}
